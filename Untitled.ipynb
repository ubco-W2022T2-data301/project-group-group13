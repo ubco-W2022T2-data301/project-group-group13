{
 "cells": [
  {
   "cell_type": "raw",
   "id": "42c72e81-1b69-43c2-a4dd-bfb0c3eb9743",
   "metadata": {},
   "source": [
    "\n",
    "Fruit Name\tMass(g)\tColour\tRating\n",
    "Apple\t200\tRed\t8\n",
    "Banana\t250\tYellow\t9\n",
    "Cantoloupe\t600\tOrange\t10\n",
    "Cranberry\t50\tRed\t6\n",
    "Blueberry\t20\tBlue\t9\n",
    "Strawberry\t120\tRed\t10\n",
    "Papaya\t220\tGreen\t8\n",
    "Lemon\t200\tYellow\t9\n",
    "Avocado\t300\tGreen\t7\n",
    "Jackfruit\t500\tYellow\t8\n",
    "\n"
   ]
  },
  {
   "cell_type": "code",
   "execution_count": 2,
   "id": "d51ad9f3-b502-4be7-bc66-a3b20b754d6e",
   "metadata": {},
   "outputs": [
    {
     "ename": "NameError",
     "evalue": "name 'fruits' is not defined",
     "output_type": "error",
     "traceback": [
      "\u001b[1;31m---------------------------------------------------------------------------\u001b[0m",
      "\u001b[1;31mNameError\u001b[0m                                 Traceback (most recent call last)",
      "Cell \u001b[1;32mIn[2], line 1\u001b[0m\n\u001b[1;32m----> 1\u001b[0m \u001b[43mfruits\u001b[49m[\u001b[38;5;124m'\u001b[39m\u001b[38;5;124mcolour\u001b[39m\u001b[38;5;124m'\u001b[39m]\n",
      "\u001b[1;31mNameError\u001b[0m: name 'fruits' is not defined"
     ]
    }
   ],
   "source": [
    "fruits['colour']\n"
   ]
  },
  {
   "cell_type": "code",
   "execution_count": null,
   "id": "0e7ff07d-107f-46a7-88e2-cc0473987fe4",
   "metadata": {},
   "outputs": [],
   "source": []
  }
 ],
 "metadata": {
  "kernelspec": {
   "display_name": "Python 3 (ipykernel)",
   "language": "python",
   "name": "python3"
  },
  "language_info": {
   "codemirror_mode": {
    "name": "ipython",
    "version": 3
   },
   "file_extension": ".py",
   "mimetype": "text/x-python",
   "name": "python",
   "nbconvert_exporter": "python",
   "pygments_lexer": "ipython3",
   "version": "3.10.8"
  }
 },
 "nbformat": 4,
 "nbformat_minor": 5
}
