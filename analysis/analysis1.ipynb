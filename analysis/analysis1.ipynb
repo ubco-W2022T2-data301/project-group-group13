{
 "cells": [
  {
   "cell_type": "markdown",
   "metadata": {},
   "source": [
    "# Jaxson Bos"
   ]
  },
  {
   "cell_type": "markdown",
   "metadata": {},
   "source": [
    "## Research question/interests\n",
    "\n",
    "For myself the idea of a machine being able to eliminate human error makes sense but whether we have technology reliable enough to perform this could be untrue. Our highlights the most precedent problem with autonomous vehicles and why they are not fully reliable, and that issue is unforced accidents leading to deaths. In order for the autonomous vehicle industry to be trusted fully we need to see more proof of these machines operating without fail."
   ]
  },
  {
   "cell_type": "code",
   "execution_count": null,
   "metadata": {},
   "outputs": [],
   "source": []
  }
 ],
 "metadata": {
  "kernelspec": {
   "display_name": "Python 3 (ipykernel)",
   "language": "python",
   "name": "python3"
  },
  "language_info": {
   "codemirror_mode": {
    "name": "ipython",
    "version": 3
   },
   "file_extension": ".py",
   "mimetype": "text/x-python",
   "name": "python",
   "nbconvert_exporter": "python",
   "pygments_lexer": "ipython3",
   "version": "3.10.8"
  }
 },
 "nbformat": 4,
 "nbformat_minor": 4
}
