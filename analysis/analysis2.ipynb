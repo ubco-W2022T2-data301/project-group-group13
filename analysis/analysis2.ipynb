{
 "cells": [
  {
   "cell_type": "markdown",
   "id": "6a9bfc37-41e0-4870-b3cd-cc0f38064d84",
   "metadata": {},
   "source": [
    "# Logan Sonley"
   ]
  },
  {
   "cell_type": "markdown",
   "id": "7d6e05d3-d4ef-4a16-bb73-32cb0fd32c5b",
   "metadata": {},
   "source": [
    "## Research question/interests\n",
    "\n",
    "I Am interested in the how car crashes compare between an autonomous vehicle and one that is driven by a person. Where and when they occur and differences in how they occur. I think that understanding the how autonomous driving can go wrong compared to when a person is driving sets a good benchmark to determine how far along we are in the process and how far away we are from fully self driving cars.\n"
   ]
  },
  {
   "cell_type": "code",
   "execution_count": null,
   "id": "58edd482-582f-42fc-a9c4-3290f2343f45",
   "metadata": {},
   "outputs": [],
   "source": []
  }
 ],
 "metadata": {
  "kernelspec": {
   "display_name": "Python 3 (ipykernel)",
   "language": "python",
   "name": "python3"
  },
  "language_info": {
   "codemirror_mode": {
    "name": "ipython",
    "version": 3
   },
   "file_extension": ".py",
   "mimetype": "text/x-python",
   "name": "python",
   "nbconvert_exporter": "python",
   "pygments_lexer": "ipython3",
   "version": "3.10.8"
  }
 },
 "nbformat": 4,
 "nbformat_minor": 5
}
