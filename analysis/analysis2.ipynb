{
 "cells": [
  {
   "cell_type": "markdown",
   "metadata": {},
   "source": [
<<<<<<< HEAD
    "# Logan Sonley"
=======
    "# Logan"
>>>>>>> 379d426f73c5d1ae207f9054e61cb16760d9cd0f
   ]
  },
  {
   "cell_type": "markdown",
   "metadata": {},
   "source": [
    "## Research question/interests\n",
    "\n",
<<<<<<< HEAD
    "I am interested in the processes involved in creating fully self driving cars to the point where it becomes safer than a person driving. Based off our data set it seems we are still far from that point however, this data is a good indicator of what and how things went wrong so they can figure out where improvements need to be made. It would be very cool to see fully self driving cars in my lifetime."
=======
    "I am interested in the difference between car crashes that happen in self driving cars compared cars that are driven by people. I think it is a good way to measure how close we are to full self driving and what needs to be improved on to get there. "
>>>>>>> 379d426f73c5d1ae207f9054e61cb16760d9cd0f
   ]
  },
  {
   "cell_type": "code",
   "execution_count": null,
   "metadata": {},
   "outputs": [],
   "source": []
  }
 ],
 "metadata": {
  "kernelspec": {
<<<<<<< HEAD
   "display_name": "Python 3 (ipykernel)",
   "language": "python",
   "name": "python3"
=======
   "display_name": "",
   "name": ""
>>>>>>> 379d426f73c5d1ae207f9054e61cb16760d9cd0f
  },
  "language_info": {
   "codemirror_mode": {
    "name": "ipython",
    "version": 3
   },
   "file_extension": ".py",
   "mimetype": "text/x-python",
   "name": "python",
   "nbconvert_exporter": "python",
   "pygments_lexer": "ipython3",
   "version": "3.10.8"
  }
 },
 "nbformat": 4,
 "nbformat_minor": 4
}
